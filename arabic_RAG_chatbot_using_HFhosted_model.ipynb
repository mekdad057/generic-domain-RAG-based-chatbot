{
  "cells": [
    {
      "cell_type": "code",
      "execution_count": 1,
      "metadata": {
        "colab": {
          "base_uri": "https://localhost:8080/"
        },
        "id": "V837mpDQHGfa",
        "outputId": "5f2c65e7-671c-4db9-9407-b2725f278c16"
      },
      "outputs": [
        {
          "name": "stdout",
          "output_type": "stream",
          "text": [
            "Requirement already satisfied: haystack-ai in /usr/local/lib/python3.11/dist-packages (2.13.2)\n",
            "Requirement already satisfied: chroma-haystack in /usr/local/lib/python3.11/dist-packages (3.1.0)\n",
            "Requirement already satisfied: haystack-experimental in /usr/local/lib/python3.11/dist-packages (from haystack-ai) (0.9.0)\n",
            "Requirement already satisfied: jinja2 in /usr/local/lib/python3.11/dist-packages (from haystack-ai) (3.1.6)\n",
            "Requirement already satisfied: jsonschema in /usr/local/lib/python3.11/dist-packages (from haystack-ai) (4.23.0)\n",
            "Requirement already satisfied: lazy-imports in /usr/local/lib/python3.11/dist-packages (from haystack-ai) (0.4.0)\n",
            "Requirement already satisfied: more-itertools in /usr/local/lib/python3.11/dist-packages (from haystack-ai) (10.7.0)\n",
            "Requirement already satisfied: networkx in /usr/local/lib/python3.11/dist-packages (from haystack-ai) (3.4.2)\n",
            "Requirement already satisfied: numpy in /usr/local/lib/python3.11/dist-packages (from haystack-ai) (2.0.2)\n",
            "Requirement already satisfied: openai>=1.56.1 in /usr/local/lib/python3.11/dist-packages (from haystack-ai) (1.78.1)\n",
            "Requirement already satisfied: posthog!=3.12.0 in /usr/local/lib/python3.11/dist-packages (from haystack-ai) (4.0.1)\n",
            "Requirement already satisfied: pydantic in /usr/local/lib/python3.11/dist-packages (from haystack-ai) (2.11.4)\n",
            "Requirement already satisfied: python-dateutil in /usr/local/lib/python3.11/dist-packages (from haystack-ai) (2.9.0.post0)\n",
            "Requirement already satisfied: pyyaml in /usr/local/lib/python3.11/dist-packages (from haystack-ai) (6.0.2)\n",
            "Requirement already satisfied: requests in /usr/local/lib/python3.11/dist-packages (from haystack-ai) (2.32.3)\n",
            "Requirement already satisfied: tenacity!=8.4.0 in /usr/local/lib/python3.11/dist-packages (from haystack-ai) (9.1.2)\n",
            "Requirement already satisfied: tqdm in /usr/local/lib/python3.11/dist-packages (from haystack-ai) (4.67.1)\n",
            "Requirement already satisfied: typing-extensions>=4.7 in /usr/local/lib/python3.11/dist-packages (from haystack-ai) (4.13.2)\n",
            "Requirement already satisfied: chromadb>=1.0.0 in /usr/local/lib/python3.11/dist-packages (from chroma-haystack) (1.0.9)\n",
            "Requirement already satisfied: build>=1.0.3 in /usr/local/lib/python3.11/dist-packages (from chromadb>=1.0.0->chroma-haystack) (1.2.2.post1)\n",
            "Requirement already satisfied: fastapi==0.115.9 in /usr/local/lib/python3.11/dist-packages (from chromadb>=1.0.0->chroma-haystack) (0.115.9)\n",
            "Requirement already satisfied: uvicorn>=0.18.3 in /usr/local/lib/python3.11/dist-packages (from uvicorn[standard]>=0.18.3->chromadb>=1.0.0->chroma-haystack) (0.34.2)\n",
            "Requirement already satisfied: onnxruntime>=1.14.1 in /usr/local/lib/python3.11/dist-packages (from chromadb>=1.0.0->chroma-haystack) (1.22.0)\n",
            "Requirement already satisfied: opentelemetry-api>=1.2.0 in /usr/local/lib/python3.11/dist-packages (from chromadb>=1.0.0->chroma-haystack) (1.33.1)\n",
            "Requirement already satisfied: opentelemetry-exporter-otlp-proto-grpc>=1.2.0 in /usr/local/lib/python3.11/dist-packages (from chromadb>=1.0.0->chroma-haystack) (1.33.1)\n",
            "Requirement already satisfied: opentelemetry-instrumentation-fastapi>=0.41b0 in /usr/local/lib/python3.11/dist-packages (from chromadb>=1.0.0->chroma-haystack) (0.54b1)\n",
            "Requirement already satisfied: opentelemetry-sdk>=1.2.0 in /usr/local/lib/python3.11/dist-packages (from chromadb>=1.0.0->chroma-haystack) (1.33.1)\n",
            "Requirement already satisfied: tokenizers>=0.13.2 in /usr/local/lib/python3.11/dist-packages (from chromadb>=1.0.0->chroma-haystack) (0.21.1)\n",
            "Requirement already satisfied: pypika>=0.48.9 in /usr/local/lib/python3.11/dist-packages (from chromadb>=1.0.0->chroma-haystack) (0.48.9)\n",
            "Requirement already satisfied: overrides>=7.3.1 in /usr/local/lib/python3.11/dist-packages (from chromadb>=1.0.0->chroma-haystack) (7.7.0)\n",
            "Requirement already satisfied: importlib-resources in /usr/local/lib/python3.11/dist-packages (from chromadb>=1.0.0->chroma-haystack) (6.5.2)\n",
            "Requirement already satisfied: grpcio>=1.58.0 in /usr/local/lib/python3.11/dist-packages (from chromadb>=1.0.0->chroma-haystack) (1.71.0)\n",
            "Requirement already satisfied: bcrypt>=4.0.1 in /usr/local/lib/python3.11/dist-packages (from chromadb>=1.0.0->chroma-haystack) (4.3.0)\n",
            "Requirement already satisfied: typer>=0.9.0 in /usr/local/lib/python3.11/dist-packages (from chromadb>=1.0.0->chroma-haystack) (0.15.3)\n",
            "Requirement already satisfied: kubernetes>=28.1.0 in /usr/local/lib/python3.11/dist-packages (from chromadb>=1.0.0->chroma-haystack) (32.0.1)\n",
            "Requirement already satisfied: mmh3>=4.0.1 in /usr/local/lib/python3.11/dist-packages (from chromadb>=1.0.0->chroma-haystack) (5.1.0)\n",
            "Requirement already satisfied: orjson>=3.9.12 in /usr/local/lib/python3.11/dist-packages (from chromadb>=1.0.0->chroma-haystack) (3.10.18)\n",
            "Requirement already satisfied: httpx>=0.27.0 in /usr/local/lib/python3.11/dist-packages (from chromadb>=1.0.0->chroma-haystack) (0.28.1)\n",
            "Requirement already satisfied: rich>=10.11.0 in /usr/local/lib/python3.11/dist-packages (from chromadb>=1.0.0->chroma-haystack) (13.9.4)\n",
            "Requirement already satisfied: starlette<0.46.0,>=0.40.0 in /usr/local/lib/python3.11/dist-packages (from fastapi==0.115.9->chromadb>=1.0.0->chroma-haystack) (0.45.3)\n",
            "Requirement already satisfied: attrs>=22.2.0 in /usr/local/lib/python3.11/dist-packages (from jsonschema->haystack-ai) (25.3.0)\n",
            "Requirement already satisfied: jsonschema-specifications>=2023.03.6 in /usr/local/lib/python3.11/dist-packages (from jsonschema->haystack-ai) (2025.4.1)\n",
            "Requirement already satisfied: referencing>=0.28.4 in /usr/local/lib/python3.11/dist-packages (from jsonschema->haystack-ai) (0.36.2)\n",
            "Requirement already satisfied: rpds-py>=0.7.1 in /usr/local/lib/python3.11/dist-packages (from jsonschema->haystack-ai) (0.24.0)\n",
            "Requirement already satisfied: anyio<5,>=3.5.0 in /usr/local/lib/python3.11/dist-packages (from openai>=1.56.1->haystack-ai) (4.9.0)\n",
            "Requirement already satisfied: distro<2,>=1.7.0 in /usr/local/lib/python3.11/dist-packages (from openai>=1.56.1->haystack-ai) (1.9.0)\n",
            "Requirement already satisfied: jiter<1,>=0.4.0 in /usr/local/lib/python3.11/dist-packages (from openai>=1.56.1->haystack-ai) (0.9.0)\n",
            "Requirement already satisfied: sniffio in /usr/local/lib/python3.11/dist-packages (from openai>=1.56.1->haystack-ai) (1.3.1)\n",
            "Requirement already satisfied: six>=1.5 in /usr/local/lib/python3.11/dist-packages (from posthog!=3.12.0->haystack-ai) (1.17.0)\n",
            "Requirement already satisfied: backoff>=1.10.0 in /usr/local/lib/python3.11/dist-packages (from posthog!=3.12.0->haystack-ai) (2.2.1)\n",
            "Requirement already satisfied: annotated-types>=0.6.0 in /usr/local/lib/python3.11/dist-packages (from pydantic->haystack-ai) (0.7.0)\n",
            "Requirement already satisfied: pydantic-core==2.33.2 in /usr/local/lib/python3.11/dist-packages (from pydantic->haystack-ai) (2.33.2)\n",
            "Requirement already satisfied: typing-inspection>=0.4.0 in /usr/local/lib/python3.11/dist-packages (from pydantic->haystack-ai) (0.4.0)\n",
            "Requirement already satisfied: charset-normalizer<4,>=2 in /usr/local/lib/python3.11/dist-packages (from requests->haystack-ai) (3.4.2)\n",
            "Requirement already satisfied: idna<4,>=2.5 in /usr/local/lib/python3.11/dist-packages (from requests->haystack-ai) (3.10)\n",
            "Requirement already satisfied: urllib3<3,>=1.21.1 in /usr/local/lib/python3.11/dist-packages (from requests->haystack-ai) (2.4.0)\n",
            "Requirement already satisfied: certifi>=2017.4.17 in /usr/local/lib/python3.11/dist-packages (from requests->haystack-ai) (2025.4.26)\n",
            "Requirement already satisfied: MarkupSafe>=2.0 in /usr/local/lib/python3.11/dist-packages (from jinja2->haystack-ai) (3.0.2)\n",
            "Requirement already satisfied: packaging>=19.1 in /usr/local/lib/python3.11/dist-packages (from build>=1.0.3->chromadb>=1.0.0->chroma-haystack) (24.2)\n",
            "Requirement already satisfied: pyproject_hooks in /usr/local/lib/python3.11/dist-packages (from build>=1.0.3->chromadb>=1.0.0->chroma-haystack) (1.2.0)\n",
            "Requirement already satisfied: httpcore==1.* in /usr/local/lib/python3.11/dist-packages (from httpx>=0.27.0->chromadb>=1.0.0->chroma-haystack) (1.0.9)\n",
            "Requirement already satisfied: h11>=0.16 in /usr/local/lib/python3.11/dist-packages (from httpcore==1.*->httpx>=0.27.0->chromadb>=1.0.0->chroma-haystack) (0.16.0)\n",
            "Requirement already satisfied: google-auth>=1.0.1 in /usr/local/lib/python3.11/dist-packages (from kubernetes>=28.1.0->chromadb>=1.0.0->chroma-haystack) (2.38.0)\n",
            "Requirement already satisfied: websocket-client!=0.40.0,!=0.41.*,!=0.42.*,>=0.32.0 in /usr/local/lib/python3.11/dist-packages (from kubernetes>=28.1.0->chromadb>=1.0.0->chroma-haystack) (1.8.0)\n",
            "Requirement already satisfied: requests-oauthlib in /usr/local/lib/python3.11/dist-packages (from kubernetes>=28.1.0->chromadb>=1.0.0->chroma-haystack) (2.0.0)\n",
            "Requirement already satisfied: oauthlib>=3.2.2 in /usr/local/lib/python3.11/dist-packages (from kubernetes>=28.1.0->chromadb>=1.0.0->chroma-haystack) (3.2.2)\n",
            "Requirement already satisfied: durationpy>=0.7 in /usr/local/lib/python3.11/dist-packages (from kubernetes>=28.1.0->chromadb>=1.0.0->chroma-haystack) (0.9)\n",
            "Requirement already satisfied: coloredlogs in /usr/local/lib/python3.11/dist-packages (from onnxruntime>=1.14.1->chromadb>=1.0.0->chroma-haystack) (15.0.1)\n",
            "Requirement already satisfied: flatbuffers in /usr/local/lib/python3.11/dist-packages (from onnxruntime>=1.14.1->chromadb>=1.0.0->chroma-haystack) (25.2.10)\n",
            "Requirement already satisfied: protobuf in /usr/local/lib/python3.11/dist-packages (from onnxruntime>=1.14.1->chromadb>=1.0.0->chroma-haystack) (5.29.4)\n",
            "Requirement already satisfied: sympy in /usr/local/lib/python3.11/dist-packages (from onnxruntime>=1.14.1->chromadb>=1.0.0->chroma-haystack) (1.13.1)\n",
            "Requirement already satisfied: deprecated>=1.2.6 in /usr/local/lib/python3.11/dist-packages (from opentelemetry-api>=1.2.0->chromadb>=1.0.0->chroma-haystack) (1.2.18)\n",
            "Requirement already satisfied: importlib-metadata<8.7.0,>=6.0 in /usr/local/lib/python3.11/dist-packages (from opentelemetry-api>=1.2.0->chromadb>=1.0.0->chroma-haystack) (8.6.1)\n",
            "Requirement already satisfied: googleapis-common-protos~=1.52 in /usr/local/lib/python3.11/dist-packages (from opentelemetry-exporter-otlp-proto-grpc>=1.2.0->chromadb>=1.0.0->chroma-haystack) (1.70.0)\n",
            "Requirement already satisfied: opentelemetry-exporter-otlp-proto-common==1.33.1 in /usr/local/lib/python3.11/dist-packages (from opentelemetry-exporter-otlp-proto-grpc>=1.2.0->chromadb>=1.0.0->chroma-haystack) (1.33.1)\n",
            "Requirement already satisfied: opentelemetry-proto==1.33.1 in /usr/local/lib/python3.11/dist-packages (from opentelemetry-exporter-otlp-proto-grpc>=1.2.0->chromadb>=1.0.0->chroma-haystack) (1.33.1)\n",
            "Requirement already satisfied: opentelemetry-instrumentation-asgi==0.54b1 in /usr/local/lib/python3.11/dist-packages (from opentelemetry-instrumentation-fastapi>=0.41b0->chromadb>=1.0.0->chroma-haystack) (0.54b1)\n",
            "Requirement already satisfied: opentelemetry-instrumentation==0.54b1 in /usr/local/lib/python3.11/dist-packages (from opentelemetry-instrumentation-fastapi>=0.41b0->chromadb>=1.0.0->chroma-haystack) (0.54b1)\n",
            "Requirement already satisfied: opentelemetry-semantic-conventions==0.54b1 in /usr/local/lib/python3.11/dist-packages (from opentelemetry-instrumentation-fastapi>=0.41b0->chromadb>=1.0.0->chroma-haystack) (0.54b1)\n",
            "Requirement already satisfied: opentelemetry-util-http==0.54b1 in /usr/local/lib/python3.11/dist-packages (from opentelemetry-instrumentation-fastapi>=0.41b0->chromadb>=1.0.0->chroma-haystack) (0.54b1)\n",
            "Requirement already satisfied: wrapt<2.0.0,>=1.0.0 in /usr/local/lib/python3.11/dist-packages (from opentelemetry-instrumentation==0.54b1->opentelemetry-instrumentation-fastapi>=0.41b0->chromadb>=1.0.0->chroma-haystack) (1.17.2)\n",
            "Requirement already satisfied: asgiref~=3.0 in /usr/local/lib/python3.11/dist-packages (from opentelemetry-instrumentation-asgi==0.54b1->opentelemetry-instrumentation-fastapi>=0.41b0->chromadb>=1.0.0->chroma-haystack) (3.8.1)\n",
            "Requirement already satisfied: markdown-it-py>=2.2.0 in /usr/local/lib/python3.11/dist-packages (from rich>=10.11.0->chromadb>=1.0.0->chroma-haystack) (3.0.0)\n",
            "Requirement already satisfied: pygments<3.0.0,>=2.13.0 in /usr/local/lib/python3.11/dist-packages (from rich>=10.11.0->chromadb>=1.0.0->chroma-haystack) (2.19.1)\n",
            "Requirement already satisfied: huggingface-hub<1.0,>=0.16.4 in /usr/local/lib/python3.11/dist-packages (from tokenizers>=0.13.2->chromadb>=1.0.0->chroma-haystack) (0.31.2)\n",
            "Requirement already satisfied: click>=8.0.0 in /usr/local/lib/python3.11/dist-packages (from typer>=0.9.0->chromadb>=1.0.0->chroma-haystack) (8.2.0)\n",
            "Requirement already satisfied: shellingham>=1.3.0 in /usr/local/lib/python3.11/dist-packages (from typer>=0.9.0->chromadb>=1.0.0->chroma-haystack) (1.5.4)\n",
            "Requirement already satisfied: httptools>=0.6.3 in /usr/local/lib/python3.11/dist-packages (from uvicorn[standard]>=0.18.3->chromadb>=1.0.0->chroma-haystack) (0.6.4)\n",
            "Requirement already satisfied: python-dotenv>=0.13 in /usr/local/lib/python3.11/dist-packages (from uvicorn[standard]>=0.18.3->chromadb>=1.0.0->chroma-haystack) (1.1.0)\n",
            "Requirement already satisfied: uvloop!=0.15.0,!=0.15.1,>=0.14.0 in /usr/local/lib/python3.11/dist-packages (from uvicorn[standard]>=0.18.3->chromadb>=1.0.0->chroma-haystack) (0.21.0)\n",
            "Requirement already satisfied: watchfiles>=0.13 in /usr/local/lib/python3.11/dist-packages (from uvicorn[standard]>=0.18.3->chromadb>=1.0.0->chroma-haystack) (1.0.5)\n",
            "Requirement already satisfied: websockets>=10.4 in /usr/local/lib/python3.11/dist-packages (from uvicorn[standard]>=0.18.3->chromadb>=1.0.0->chroma-haystack) (15.0.1)\n",
            "Requirement already satisfied: cachetools<6.0,>=2.0.0 in /usr/local/lib/python3.11/dist-packages (from google-auth>=1.0.1->kubernetes>=28.1.0->chromadb>=1.0.0->chroma-haystack) (5.5.2)\n",
            "Requirement already satisfied: pyasn1-modules>=0.2.1 in /usr/local/lib/python3.11/dist-packages (from google-auth>=1.0.1->kubernetes>=28.1.0->chromadb>=1.0.0->chroma-haystack) (0.4.2)\n",
            "Requirement already satisfied: rsa<5,>=3.1.4 in /usr/local/lib/python3.11/dist-packages (from google-auth>=1.0.1->kubernetes>=28.1.0->chromadb>=1.0.0->chroma-haystack) (4.9.1)\n",
            "Requirement already satisfied: filelock in /usr/local/lib/python3.11/dist-packages (from huggingface-hub<1.0,>=0.16.4->tokenizers>=0.13.2->chromadb>=1.0.0->chroma-haystack) (3.18.0)\n",
            "Requirement already satisfied: fsspec>=2023.5.0 in /usr/local/lib/python3.11/dist-packages (from huggingface-hub<1.0,>=0.16.4->tokenizers>=0.13.2->chromadb>=1.0.0->chroma-haystack) (2025.3.2)\n",
            "Requirement already satisfied: zipp>=3.20 in /usr/local/lib/python3.11/dist-packages (from importlib-metadata<8.7.0,>=6.0->opentelemetry-api>=1.2.0->chromadb>=1.0.0->chroma-haystack) (3.21.0)\n",
            "Requirement already satisfied: mdurl~=0.1 in /usr/local/lib/python3.11/dist-packages (from markdown-it-py>=2.2.0->rich>=10.11.0->chromadb>=1.0.0->chroma-haystack) (0.1.2)\n",
            "Requirement already satisfied: humanfriendly>=9.1 in /usr/local/lib/python3.11/dist-packages (from coloredlogs->onnxruntime>=1.14.1->chromadb>=1.0.0->chroma-haystack) (10.0)\n",
            "Requirement already satisfied: mpmath<1.4,>=1.1.0 in /usr/local/lib/python3.11/dist-packages (from sympy->onnxruntime>=1.14.1->chromadb>=1.0.0->chroma-haystack) (1.3.0)\n",
            "Requirement already satisfied: pyasn1<0.7.0,>=0.6.1 in /usr/local/lib/python3.11/dist-packages (from pyasn1-modules>=0.2.1->google-auth>=1.0.1->kubernetes>=28.1.0->chromadb>=1.0.0->chroma-haystack) (0.6.1)\n",
            "Requirement already satisfied: huggingface_hub in /usr/local/lib/python3.11/dist-packages (0.31.2)\n",
            "Requirement already satisfied: filelock in /usr/local/lib/python3.11/dist-packages (from huggingface_hub) (3.18.0)\n",
            "Requirement already satisfied: fsspec>=2023.5.0 in /usr/local/lib/python3.11/dist-packages (from huggingface_hub) (2025.3.2)\n",
            "Requirement already satisfied: packaging>=20.9 in /usr/local/lib/python3.11/dist-packages (from huggingface_hub) (24.2)\n",
            "Requirement already satisfied: pyyaml>=5.1 in /usr/local/lib/python3.11/dist-packages (from huggingface_hub) (6.0.2)\n",
            "Requirement already satisfied: requests in /usr/local/lib/python3.11/dist-packages (from huggingface_hub) (2.32.3)\n",
            "Requirement already satisfied: tqdm>=4.42.1 in /usr/local/lib/python3.11/dist-packages (from huggingface_hub) (4.67.1)\n",
            "Requirement already satisfied: typing-extensions>=3.7.4.3 in /usr/local/lib/python3.11/dist-packages (from huggingface_hub) (4.13.2)\n",
            "Requirement already satisfied: charset-normalizer<4,>=2 in /usr/local/lib/python3.11/dist-packages (from requests->huggingface_hub) (3.4.2)\n",
            "Requirement already satisfied: idna<4,>=2.5 in /usr/local/lib/python3.11/dist-packages (from requests->huggingface_hub) (3.10)\n",
            "Requirement already satisfied: urllib3<3,>=1.21.1 in /usr/local/lib/python3.11/dist-packages (from requests->huggingface_hub) (2.4.0)\n",
            "Requirement already satisfied: certifi>=2017.4.17 in /usr/local/lib/python3.11/dist-packages (from requests->huggingface_hub) (2025.4.26)\n"
          ]
        }
      ],
      "source": [
        "!pip install haystack-ai chroma-haystack\n",
        "!pip install --upgrade huggingface_hub\n"
      ]
    },
    {
      "cell_type": "markdown",
      "metadata": {
        "id": "ImAz-LNhHu4j"
      },
      "source": [
        "# Setting up Data preprocessing pipeline\n"
      ]
    },
    {
      "cell_type": "code",
      "execution_count": 2,
      "metadata": {
        "id": "cVgzgZNsHuCC"
      },
      "outputs": [],
      "source": [
        "from haystack import component\n",
        "from haystack import Pipeline, Document\n",
        "from haystack.components.preprocessors import DocumentCleaner, DocumentSplitter\n",
        "from haystack.components.writers import DocumentWriter\n",
        "from haystack.document_stores.types import DuplicatePolicy\n",
        "from haystack_integrations.document_stores.chroma import ChromaDocumentStore"
      ]
    },
    {
      "cell_type": "markdown",
      "metadata": {
        "id": "_iOT3v3dRJqE"
      },
      "source": [
        "## processing arabic text from pdfs\n"
      ]
    },
    {
      "cell_type": "markdown",
      "metadata": {
        "id": "jieXlr7hRU0E"
      },
      "source": [
        "### using Tesseract OCR\n"
      ]
    },
    {
      "cell_type": "code",
      "execution_count": 10,
      "metadata": {
        "colab": {
          "base_uri": "https://localhost:8080/"
        },
        "id": "SD-XrAqlRM7b",
        "outputId": "37472d10-183c-463b-96fc-e5180585fb55"
      },
      "outputs": [
        {
          "name": "stdout",
          "output_type": "stream",
          "text": [
            "Reading package lists... Done\n",
            "Building dependency tree... Done\n",
            "Reading state information... Done\n",
            "tesseract-ocr is already the newest version (4.1.1-2.1build1).\n",
            "0 upgraded, 0 newly installed, 0 to remove and 34 not upgraded.\n",
            "Requirement already satisfied: pytesseract in /usr/local/lib/python3.11/dist-packages (0.3.13)\n",
            "Requirement already satisfied: opencv-python in /usr/local/lib/python3.11/dist-packages (4.11.0.86)\n",
            "Requirement already satisfied: pillow in /usr/local/lib/python3.11/dist-packages (11.2.1)\n",
            "Requirement already satisfied: packaging>=21.3 in /usr/local/lib/python3.11/dist-packages (from pytesseract) (24.2)\n",
            "Requirement already satisfied: numpy>=1.21.2 in /usr/local/lib/python3.11/dist-packages (from opencv-python) (2.0.2)\n",
            "Reading package lists... Done\n",
            "Building dependency tree... Done\n",
            "Reading state information... Done\n",
            "tesseract-ocr-ara is already the newest version (1:4.00~git30-7274cfa-1.1).\n",
            "0 upgraded, 0 newly installed, 0 to remove and 34 not upgraded.\n",
            "Collecting pdf2image\n",
            "  Downloading pdf2image-1.17.0-py3-none-any.whl.metadata (6.2 kB)\n",
            "Requirement already satisfied: pillow in /usr/local/lib/python3.11/dist-packages (from pdf2image) (11.2.1)\n",
            "Downloading pdf2image-1.17.0-py3-none-any.whl (11 kB)\n",
            "Installing collected packages: pdf2image\n",
            "Successfully installed pdf2image-1.17.0\n",
            "Reading package lists... Done\n",
            "Building dependency tree... Done\n",
            "Reading state information... Done\n",
            "The following NEW packages will be installed:\n",
            "  poppler-utils\n",
            "0 upgraded, 1 newly installed, 0 to remove and 34 not upgraded.\n",
            "Need to get 186 kB of archives.\n",
            "After this operation, 697 kB of additional disk space will be used.\n",
            "Get:1 http://archive.ubuntu.com/ubuntu jammy-updates/main amd64 poppler-utils amd64 22.02.0-2ubuntu0.8 [186 kB]\n",
            "Fetched 186 kB in 1s (339 kB/s)\n",
            "Selecting previously unselected package poppler-utils.\n",
            "(Reading database ... 126106 files and directories currently installed.)\n",
            "Preparing to unpack .../poppler-utils_22.02.0-2ubuntu0.8_amd64.deb ...\n",
            "Unpacking poppler-utils (22.02.0-2ubuntu0.8) ...\n",
            "Setting up poppler-utils (22.02.0-2ubuntu0.8) ...\n",
            "Processing triggers for man-db (2.10.2-1) ...\n"
          ]
        }
      ],
      "source": [
        "!apt-get install -y tesseract-ocr\n",
        "!pip install pytesseract opencv-python pillow\n",
        "!apt-get install -y tesseract-ocr-ara\n",
        "\n",
        "!pip install pdf2image\n",
        "!apt-get install -y poppler-utils  # required for pdf2image"
      ]
    },
    {
      "cell_type": "code",
      "execution_count": 11,
      "metadata": {
        "id": "8WaqsJDPH0fb"
      },
      "outputs": [],
      "source": [
        "import pytesseract\n",
        "pytesseract.pytesseract.tesseract_cmd = r'/usr/bin/tesseract'"
      ]
    },
    {
      "cell_type": "code",
      "execution_count": 13,
      "metadata": {
        "id": "IlwO54D6KTdc"
      },
      "outputs": [],
      "source": [
        "from pdf2image import convert_from_path\n",
        "\n",
        "pdf_path = \"/content/132164a.pdf\"  # replace with your PDF file path\n",
        "pages = convert_from_path(pdf_path, dpi=300)"
      ]
    },
    {
      "cell_type": "code",
      "execution_count": 18,
      "metadata": {
        "id": "EyeGSQGMKlHk"
      },
      "outputs": [],
      "source": [
        "import cv2\n",
        "import numpy as np\n",
        "\n",
        "def preprocess_image(pil_image):\n",
        "    image = np.array(pil_image)\n",
        "    gray = cv2.cvtColor(image, cv2.COLOR_BGR2GRAY)\n",
        "    _, thresh = cv2.threshold(gray, 150, 255, cv2.THRESH_BINARY + cv2.THRESH_OTSU)\n",
        "    return thresh\n",
        "\n",
        "processed_pages = [preprocess_image(page) for page in pages]\n"
      ]
    },
    {
      "cell_type": "code",
      "execution_count": 19,
      "metadata": {
        "id": "jxaGg6RgSyTb"
      },
      "outputs": [],
      "source": [
        "import pytesseract\n",
        "from PIL import Image\n",
        "\n",
        "extracted_texts = []\n",
        "for img in processed_pages:\n",
        "    pil_img = Image.fromarray(img)\n",
        "    text = pytesseract.image_to_string(pil_img, lang='ara')\n",
        "    extracted_texts.append(text)"
      ]
    },
    {
      "cell_type": "code",
      "execution_count": 21,
      "metadata": {
        "id": "MlYpvltITXQ6"
      },
      "outputs": [],
      "source": [
        "full_text = \"\\n\\n\".join(extracted_texts)\n",
        "\n",
        "with open(\"extracted_text.txt\", \"w\", encoding=\"utf-8\") as f:\n",
        "    f.write(full_text)"
      ]
    },
    {
      "cell_type": "code",
      "execution_count": 27,
      "metadata": {
        "id": "89t02LayXvCs"
      },
      "outputs": [],
      "source": [
        "pages = extracted_texts\n",
        "\n",
        "def pdf_preprocess(text):\n",
        "  text = text.replace('\\r', '')\n",
        "  text = text.split('\\n\\n')\n",
        "  text = [i.replace('\\n', ' ').strip() for i in text]\n",
        "  text = [i for i in text if i != '']\n",
        "  text = '\\n\\n'.join(text)\n",
        "  return text\n",
        "pages = [pdf_preprocess(text) for text in pages]\n"
      ]
    },
    {
      "cell_type": "code",
      "execution_count": 30,
      "metadata": {
        "id": "ZZShQ2oUX61C"
      },
      "outputs": [],
      "source": [
        "pages_documents = []\n",
        "for idx, page in enumerate(pages):\n",
        "    document = Document(content=page, meta={'language':'arabic'})\n",
        "    pages_documents.append(document)\n"
      ]
    },
    {
      "cell_type": "markdown",
      "metadata": {
        "id": "LF8w9gI0abEq"
      },
      "source": [
        "### creating the CromaDatastore with suitable embedding model\n"
      ]
    },
    {
      "cell_type": "code",
      "execution_count": 51,
      "metadata": {
        "id": "u8OGXnvMaMkh"
      },
      "outputs": [],
      "source": [
        "# from transformers import AutoTokenizer, AutoModel\n",
        "# import torch\n",
        "\n",
        "# def mean_pooling(model_output, attention_mask):\n",
        "#     token_embeddings = model_output[0] #First element of model_output contains all token embeddings\n",
        "#     input_mask_expanded = attention_mask.unsqueeze(-1).expand(token_embeddings.size()).float()\n",
        "#     return torch.sum(token_embeddings * input_mask_expanded, 1) / torch.clamp(input_mask_expanded.sum(1), min=1e-9)\n",
        "\n",
        "\n",
        "# # Load model from HuggingFace Hub\n",
        "# tokenizer = AutoTokenizer.from_pretrained('sentence-transformers/paraphrase-multilingual-MiniLM-L12-v2')\n",
        "# model = AutoModel.from_pretrained('sentence-transformers/paraphrase-multilingual-MiniLM-L12-v2')\n",
        "\n",
        "# def embedding_function(texts):\n",
        "#     encoded_input = tokenizer(texts, padding=True, truncation=True, return_tensors='pt')\n",
        "\n",
        "#     # Compute token embeddings\n",
        "#     with torch.no_grad():\n",
        "#         model_output = model(**encoded_input)\n",
        "\n",
        "#     # Perform pooling. In this case, max pooling.\n",
        "#     sentence_embeddings = mean_pooling(model_output, encoded_input['attention_mask'])\n",
        "\n",
        "#     return sentence_embeddings.tolist()\n",
        "\n",
        "document_store = ChromaDocumentStore(collection_name='altalim_aljamee', embedding_function='default', persist_path='/content/vectordb')\n"
      ]
    },
    {
      "cell_type": "code",
      "execution_count": 52,
      "metadata": {
        "colab": {
          "base_uri": "https://localhost:8080/"
        },
        "id": "DGgq76ckdbq5",
        "outputId": "fbfc216a-8332-4819-cef5-7c1eb0e96eee"
      },
      "outputs": [
        {
          "data": {
            "text/plain": [
              "<haystack.core.pipeline.pipeline.Pipeline object at 0x7d1eb30c2ed0>\n",
              "🚅 Components\n",
              "  - cleaner: DocumentCleaner\n",
              "  - splitter: DocumentSplitter\n",
              "  - writer: DocumentWriter\n",
              "🛤️ Connections\n",
              "  - cleaner.documents -> splitter.documents (List[Document])\n",
              "  - splitter.documents -> writer.documents (List[Document])"
            ]
          },
          "execution_count": 52,
          "metadata": {},
          "output_type": "execute_result"
        }
      ],
      "source": [
        "pipeline = Pipeline()\n",
        "# pipeline.add_component('injestor', GutenbergTextIngestor())\n",
        "pipeline.add_component('cleaner', DocumentCleaner(remove_empty_lines=True, remove_extra_whitespaces=True, remove_repeated_substrings=False))\n",
        "pipeline.add_component('splitter', DocumentSplitter(split_by='sentence', split_length=3, split_overlap=1))\n",
        "pipeline.add_component('writer', DocumentWriter(document_store=document_store, policy=DuplicatePolicy.SKIP))\n",
        "\n",
        "# pipeline.connect('injestor.documents', 'cleaner.documents')\n",
        "pipeline.connect('cleaner.documents', 'splitter.documents')\n",
        "pipeline.connect('splitter.documents', 'writer.documents')\n",
        "\n"
      ]
    },
    {
      "cell_type": "code",
      "execution_count": 53,
      "metadata": {
        "colab": {
          "base_uri": "https://localhost:8080/"
        },
        "id": "bCPe7zXBfOJP",
        "outputId": "3c623af2-1115-4950-c9e3-47d9580d7a6c"
      },
      "outputs": [
        {
          "name": "stderr",
          "output_type": "stream",
          "text": [
            "WARNING:haystack.components.preprocessors.sentence_tokenizer:No abbreviations file found for en. Using default abbreviations.\n",
            "WARNING:haystack_integrations.document_stores.chroma.document_store:Document 3ae555799a10a6d321c95c99d40728399c1d55f8889849c27029e7bdecee3c0e contains `meta` values of unsupported types for the keys: _split_overlap. These items will be discarded. Supported types are: str, int, float, bool.\n",
            "WARNING:haystack_integrations.document_stores.chroma.document_store:Document 8d6379d509a0a7db505f367e8185653c780994eb09ff9903817aab0bf7199dba contains `meta` values of unsupported types for the keys: _split_overlap. These items will be discarded. Supported types are: str, int, float, bool.\n",
            "WARNING:haystack_integrations.document_stores.chroma.document_store:Document 53a76c05c6c7d6b09293459c8b00bb8bf9499c97dca1c35b19c6dae63dbd4133 contains `meta` values of unsupported types for the keys: _split_overlap. These items will be discarded. Supported types are: str, int, float, bool.\n",
            "WARNING:haystack_integrations.document_stores.chroma.document_store:Document e27892da95f181a1e134b0bb987ff7a562be747fe0545581e6b2577c77dfdd2a contains `meta` values of unsupported types for the keys: _split_overlap. These items will be discarded. Supported types are: str, int, float, bool.\n",
            "WARNING:haystack_integrations.document_stores.chroma.document_store:Document 57ea73d2327e89413ad429cf6e7cd282079b432c8bc417efa2a9e26b80695ab8 contains `meta` values of unsupported types for the keys: _split_overlap. These items will be discarded. Supported types are: str, int, float, bool.\n",
            "WARNING:haystack_integrations.document_stores.chroma.document_store:Document f4499f3e9743c647430cb8aa6c33b59d3f23cfba72a85bb095fb7e859ca3f175 contains `meta` values of unsupported types for the keys: _split_overlap. These items will be discarded. Supported types are: str, int, float, bool.\n",
            "WARNING:haystack_integrations.document_stores.chroma.document_store:Document 10d8607d138805c6f43b43d3179119b1cd25f49dd441a060f2f9d3958ea000e1 contains `meta` values of unsupported types for the keys: _split_overlap. These items will be discarded. Supported types are: str, int, float, bool.\n",
            "WARNING:haystack_integrations.document_stores.chroma.document_store:Document 12d88453aa835889f62dcba1e57fa31251ee1284058d3ad2ff1e29d8234a5d4a contains `meta` values of unsupported types for the keys: _split_overlap. These items will be discarded. Supported types are: str, int, float, bool.\n",
            "WARNING:haystack_integrations.document_stores.chroma.document_store:Document 42342baa0c7353e92faf517c648d55ec665cca194a4cc72fd78d61ae8c3694e3 contains `meta` values of unsupported types for the keys: _split_overlap. These items will be discarded. Supported types are: str, int, float, bool.\n",
            "WARNING:haystack_integrations.document_stores.chroma.document_store:Document 55d24233766b855b046d000adc45d663f21b9ed6199a5798aa1b67b3c8ac631b contains `meta` values of unsupported types for the keys: _split_overlap. These items will be discarded. Supported types are: str, int, float, bool.\n",
            "WARNING:haystack_integrations.document_stores.chroma.document_store:Document 2c77f397a5af832874e293e6859b9f740eabd3bdaa1c8adcdf4506b81d8c9a4b contains `meta` values of unsupported types for the keys: _split_overlap. These items will be discarded. Supported types are: str, int, float, bool.\n",
            "WARNING:haystack_integrations.document_stores.chroma.document_store:Document 135ef5b3844be01474b3679da0c66d93f06dc94d0113854d98b07a366f128592 contains `meta` values of unsupported types for the keys: _split_overlap. These items will be discarded. Supported types are: str, int, float, bool.\n",
            "WARNING:haystack_integrations.document_stores.chroma.document_store:Document 4ead54d0ad204338c3924f8070201006e1d268cdd3d05e12a14d52d2f623d2d7 contains `meta` values of unsupported types for the keys: _split_overlap. These items will be discarded. Supported types are: str, int, float, bool.\n",
            "WARNING:haystack_integrations.document_stores.chroma.document_store:Document 83a533223da07e6c51b00d74f655e0f9aa7dd532c753592085b0f9ad578b5c34 contains `meta` values of unsupported types for the keys: _split_overlap. These items will be discarded. Supported types are: str, int, float, bool.\n",
            "WARNING:haystack_integrations.document_stores.chroma.document_store:Document c4d91073ff09c84d11d9ef4cc3f5b7c9ee8daa4b7fb48f5017e2a9900e90cb14 contains `meta` values of unsupported types for the keys: _split_overlap. These items will be discarded. Supported types are: str, int, float, bool.\n",
            "WARNING:haystack_integrations.document_stores.chroma.document_store:Document 3ca0f1eda957a93861b154505751b8944c0e4a22f3c938d863147a2b28019378 contains `meta` values of unsupported types for the keys: _split_overlap. These items will be discarded. Supported types are: str, int, float, bool.\n",
            "WARNING:haystack_integrations.document_stores.chroma.document_store:Document e320ce2c27f23323899c0c9f2a37a7d98f06b51f82845c9766f12fcddbcc8a74 contains `meta` values of unsupported types for the keys: _split_overlap. These items will be discarded. Supported types are: str, int, float, bool.\n",
            "WARNING:haystack_integrations.document_stores.chroma.document_store:Document e2733c693e41b5e225340710be63cf2d10e5230d4214624af654500ce1518bd7 contains `meta` values of unsupported types for the keys: _split_overlap. These items will be discarded. Supported types are: str, int, float, bool.\n",
            "WARNING:haystack_integrations.document_stores.chroma.document_store:Document b277ca4bb28642bb1ad5248a46f5ff67db16d7b460512c84f8c23a304cf22096 contains `meta` values of unsupported types for the keys: _split_overlap. These items will be discarded. Supported types are: str, int, float, bool.\n",
            "WARNING:haystack_integrations.document_stores.chroma.document_store:Document 77675f9cd27fd8b29857b54a35a2898eebae9ef21f690c432c860827e495e529 contains `meta` values of unsupported types for the keys: _split_overlap. These items will be discarded. Supported types are: str, int, float, bool.\n",
            "WARNING:haystack_integrations.document_stores.chroma.document_store:Document c8388db283fd4cd0729b80f4460c08279bb941cab9c1c9344bcdded52ca3c6d6 contains `meta` values of unsupported types for the keys: _split_overlap. These items will be discarded. Supported types are: str, int, float, bool.\n",
            "WARNING:haystack_integrations.document_stores.chroma.document_store:Document 2707fa6e6b3744afded0e6718095d414ee20de887ccc6e9245586e7908c22dc9 contains `meta` values of unsupported types for the keys: _split_overlap. These items will be discarded. Supported types are: str, int, float, bool.\n",
            "WARNING:haystack_integrations.document_stores.chroma.document_store:Document 204a30d141b23d4203ab9db2a8fdf5ca6d7d9df1c36679bccbb7ac215f2f67f1 contains `meta` values of unsupported types for the keys: _split_overlap. These items will be discarded. Supported types are: str, int, float, bool.\n",
            "WARNING:haystack_integrations.document_stores.chroma.document_store:Document 79aa3f710027b223256e523feba823d0a4cf16c4e292c366495ce17d4447b8cc contains `meta` values of unsupported types for the keys: _split_overlap. These items will be discarded. Supported types are: str, int, float, bool.\n",
            "WARNING:haystack_integrations.document_stores.chroma.document_store:Document d43107032fcc84f4e6c500c5e9677384889e700f601a40caf3b0dc11fa07e470 contains `meta` values of unsupported types for the keys: _split_overlap. These items will be discarded. Supported types are: str, int, float, bool.\n",
            "WARNING:haystack_integrations.document_stores.chroma.document_store:Document 9fc26be75bacfdfac845adb104a614e7f166f6f53f21e237d748474ff940ce40 contains `meta` values of unsupported types for the keys: _split_overlap. These items will be discarded. Supported types are: str, int, float, bool.\n",
            "WARNING:haystack_integrations.document_stores.chroma.document_store:Document 6d8cc9554cfba34fe0832ac2545f42b6ce2f011ebe8b9b45ae15ce766a9d8e32 contains `meta` values of unsupported types for the keys: _split_overlap. These items will be discarded. Supported types are: str, int, float, bool.\n",
            "WARNING:haystack_integrations.document_stores.chroma.document_store:Document d8b00dc542d945d5f33b737de0d3aff0682c12cd55c1bce6e1b4b77f9ccd9465 contains `meta` values of unsupported types for the keys: _split_overlap. These items will be discarded. Supported types are: str, int, float, bool.\n",
            "WARNING:haystack_integrations.document_stores.chroma.document_store:Document 5ab63c2f2a6f20089be3a8c5ee16611954cfd0a6c48137b89fa05a42cd1d9284 contains `meta` values of unsupported types for the keys: _split_overlap. These items will be discarded. Supported types are: str, int, float, bool.\n",
            "WARNING:haystack_integrations.document_stores.chroma.document_store:Document 3fbed9a462e05dfdfc608379b6617fb66967ba9bd434199a84344238f7c789b7 contains `meta` values of unsupported types for the keys: _split_overlap. These items will be discarded. Supported types are: str, int, float, bool.\n",
            "WARNING:haystack_integrations.document_stores.chroma.document_store:Document 43aafff82aebf6fcb7ee9ca8b87ceb7e90fd644285ddbbf4a6383b09339ffa3b contains `meta` values of unsupported types for the keys: _split_overlap. These items will be discarded. Supported types are: str, int, float, bool.\n",
            "WARNING:haystack_integrations.document_stores.chroma.document_store:Document f5e77aaff436bef048a79033941d1c1dee707532796986f1bf7d36a5cf3e7bfe contains `meta` values of unsupported types for the keys: _split_overlap. These items will be discarded. Supported types are: str, int, float, bool.\n",
            "WARNING:haystack_integrations.document_stores.chroma.document_store:Document 0d19122d829ad7e618e946a373bbbeb1001a05ba3d28dba04d4d950ed4ad2ebb contains `meta` values of unsupported types for the keys: _split_overlap. These items will be discarded. Supported types are: str, int, float, bool.\n",
            "WARNING:haystack_integrations.document_stores.chroma.document_store:Document 8fb35ac0770d6f1a233c25e9843e89ae4ee8a407e298df000dfae57487cd501e contains `meta` values of unsupported types for the keys: _split_overlap. These items will be discarded. Supported types are: str, int, float, bool.\n",
            "WARNING:haystack_integrations.document_stores.chroma.document_store:Document 571a6c4393e533eaec3b999a0be6d48a9fd457a73a042ca4de9b8633ecc43d92 contains `meta` values of unsupported types for the keys: _split_overlap. These items will be discarded. Supported types are: str, int, float, bool.\n",
            "WARNING:haystack_integrations.document_stores.chroma.document_store:Document f88ebc66bf149d56626c42ff5c019adef720eb45f293e8bf9e8e2e09e4878211 contains `meta` values of unsupported types for the keys: _split_overlap. These items will be discarded. Supported types are: str, int, float, bool.\n",
            "WARNING:haystack_integrations.document_stores.chroma.document_store:Document 99719514f5001b85ab8ba11969ffb950eb682ae36c2d062fd32d1f66bbad4ca0 contains `meta` values of unsupported types for the keys: _split_overlap. These items will be discarded. Supported types are: str, int, float, bool.\n",
            "WARNING:haystack_integrations.document_stores.chroma.document_store:Document 1ad1957566b853ef89af349be7d5e7e87eace54f30b1c5cc142182db8f9aef72 contains `meta` values of unsupported types for the keys: _split_overlap. These items will be discarded. Supported types are: str, int, float, bool.\n",
            "WARNING:haystack_integrations.document_stores.chroma.document_store:Document aa5f574481c4ba89439bad4ddc35b55b3457375cd0552dca20c848e348c7004b contains `meta` values of unsupported types for the keys: _split_overlap. These items will be discarded. Supported types are: str, int, float, bool.\n",
            "WARNING:haystack_integrations.document_stores.chroma.document_store:Document f7bbc8dcfee9b3a56c97bce48c49eefeb1d31e5bc2f099373917a06239be8400 contains `meta` values of unsupported types for the keys: _split_overlap. These items will be discarded. Supported types are: str, int, float, bool.\n",
            "WARNING:haystack_integrations.document_stores.chroma.document_store:Document 60355e898a44e069460675362a911c66b5b6b94cd1de8a6a1f25f168db3bf27d contains `meta` values of unsupported types for the keys: _split_overlap. These items will be discarded. Supported types are: str, int, float, bool.\n",
            "WARNING:haystack_integrations.document_stores.chroma.document_store:Document 0e8a1d00e54c0aa9e228e71a61b7cb3e0b0f6a586ab58dac440c942c3bb25090 contains `meta` values of unsupported types for the keys: _split_overlap. These items will be discarded. Supported types are: str, int, float, bool.\n",
            "WARNING:haystack_integrations.document_stores.chroma.document_store:Document 19d4695548c5acb3a2b95e372db8d01f8ee50660afab2ffbc9fe0b4eafc240a6 contains `meta` values of unsupported types for the keys: _split_overlap. These items will be discarded. Supported types are: str, int, float, bool.\n",
            "WARNING:haystack_integrations.document_stores.chroma.document_store:Document 1c72ce825f5ddac0eb4e29938d8b98168081e08ede9df5f3326b64742fb286ec contains `meta` values of unsupported types for the keys: _split_overlap. These items will be discarded. Supported types are: str, int, float, bool.\n",
            "WARNING:haystack_integrations.document_stores.chroma.document_store:Document 8c708401a1980f2fd1380235b1ad50d7034558156bac99a5cc68b08bd4e18a32 contains `meta` values of unsupported types for the keys: _split_overlap. These items will be discarded. Supported types are: str, int, float, bool.\n",
            "WARNING:haystack_integrations.document_stores.chroma.document_store:Document 941991dae931172cfea6fbeae463cb113aeb17f0fc092218fc184fefca547b4f contains `meta` values of unsupported types for the keys: _split_overlap. These items will be discarded. Supported types are: str, int, float, bool.\n",
            "WARNING:haystack_integrations.document_stores.chroma.document_store:Document 89d28d7c6c4dbc443e6c78a85f30ce42df2c5e7093a67a8e61f343c2cc146659 contains `meta` values of unsupported types for the keys: _split_overlap. These items will be discarded. Supported types are: str, int, float, bool.\n",
            "WARNING:haystack_integrations.document_stores.chroma.document_store:Document e8a9fdf92bb0fefb71e98884be5b6592d1269f4e200c4b054759da1cfca9d5ca contains `meta` values of unsupported types for the keys: _split_overlap. These items will be discarded. Supported types are: str, int, float, bool.\n",
            "WARNING:haystack_integrations.document_stores.chroma.document_store:Document 9f2bbc8e4fbb6fd9a242df4addfefc9f5d11ea2ff9ff8b9b3fff92dbce8e56b1 contains `meta` values of unsupported types for the keys: _split_overlap. These items will be discarded. Supported types are: str, int, float, bool.\n",
            "WARNING:haystack_integrations.document_stores.chroma.document_store:Document b2ae298230b70a66eff322361046336133af0fc4efccd62c15d239f20a6148ef contains `meta` values of unsupported types for the keys: _split_overlap. These items will be discarded. Supported types are: str, int, float, bool.\n",
            "WARNING:haystack_integrations.document_stores.chroma.document_store:Document 2b60701170c48551bd8369a1e87df2efb62613051997abfb54664363395c88e7 contains `meta` values of unsupported types for the keys: _split_overlap. These items will be discarded. Supported types are: str, int, float, bool.\n",
            "WARNING:haystack_integrations.document_stores.chroma.document_store:Document 812f968f9fdbc1b1371b8425993db59bed49933ece678be26bb8f2bf76c59766 contains `meta` values of unsupported types for the keys: _split_overlap. These items will be discarded. Supported types are: str, int, float, bool.\n",
            "WARNING:haystack_integrations.document_stores.chroma.document_store:Document a3fb505f239ec0fe0fc89d5770e93d2855f548b9a19bdf5042c36b70c6977574 contains `meta` values of unsupported types for the keys: _split_overlap. These items will be discarded. Supported types are: str, int, float, bool.\n",
            "WARNING:haystack_integrations.document_stores.chroma.document_store:Document df7f4f65ecae17ff544945b192926a196da5f0d2e267271d4d2d143dc3dace27 contains `meta` values of unsupported types for the keys: _split_overlap. These items will be discarded. Supported types are: str, int, float, bool.\n",
            "WARNING:haystack_integrations.document_stores.chroma.document_store:Document 31c1f2e6fa54ee4c2fbcb68b7b19142fac0419efd4aa908b18072af40d2ffe45 contains `meta` values of unsupported types for the keys: _split_overlap. These items will be discarded. Supported types are: str, int, float, bool.\n",
            "WARNING:haystack_integrations.document_stores.chroma.document_store:Document 75f2aab33a6b64ed90a59d2321e524732099c135266a641e1fcb682b12dd3c98 contains `meta` values of unsupported types for the keys: _split_overlap. These items will be discarded. Supported types are: str, int, float, bool.\n",
            "WARNING:haystack_integrations.document_stores.chroma.document_store:Document f5e3f804194847d9f0914961700574bd9d5938056fd5bf0442f1c55a4749b9f8 contains `meta` values of unsupported types for the keys: _split_overlap. These items will be discarded. Supported types are: str, int, float, bool.\n",
            "WARNING:haystack_integrations.document_stores.chroma.document_store:Document 2fc69c50873ab6678625d11e650d4e5b279db7b2c06baf4551275a9208cb674b contains `meta` values of unsupported types for the keys: _split_overlap. These items will be discarded. Supported types are: str, int, float, bool.\n",
            "WARNING:haystack_integrations.document_stores.chroma.document_store:Document 2057b73f4d0c98ab71995a6309e020845cf23ae36c86f9a6ad41e180e6fb606d contains `meta` values of unsupported types for the keys: _split_overlap. These items will be discarded. Supported types are: str, int, float, bool.\n",
            "WARNING:haystack_integrations.document_stores.chroma.document_store:Document 6d6681bed3e99a5d20e57ef14bb4fbf754501ce0b12ecfb0c0da825fff5763d0 contains `meta` values of unsupported types for the keys: _split_overlap. These items will be discarded. Supported types are: str, int, float, bool.\n",
            "WARNING:haystack_integrations.document_stores.chroma.document_store:Document 0394277f4e658f071ce2b47e08aca401b1dc8ba42d9b8496a88b8b1685eb9f31 contains `meta` values of unsupported types for the keys: _split_overlap. These items will be discarded. Supported types are: str, int, float, bool.\n",
            "WARNING:haystack_integrations.document_stores.chroma.document_store:Document 40e5efac70a12d69f5d048b0dac81bbbe299b3a44c0518dc51123ec934f040d4 contains `meta` values of unsupported types for the keys: _split_overlap. These items will be discarded. Supported types are: str, int, float, bool.\n",
            "WARNING:haystack_integrations.document_stores.chroma.document_store:Document c638a3415cd9a9e5bdd2ce5063703273837029314531e62b39ef1f2dd91c0a31 contains `meta` values of unsupported types for the keys: _split_overlap. These items will be discarded. Supported types are: str, int, float, bool.\n",
            "WARNING:haystack_integrations.document_stores.chroma.document_store:Document 7bcd4e1bf184b0864f5a650b74fb1f5a96b7b168d78f7cc6b56d58eacfee247c contains `meta` values of unsupported types for the keys: _split_overlap. These items will be discarded. Supported types are: str, int, float, bool.\n",
            "WARNING:haystack_integrations.document_stores.chroma.document_store:Document 3b01c92798444c9b614734275097f8e529aa8296d4c3ded2e0edb9ec5e6eb71f contains `meta` values of unsupported types for the keys: _split_overlap. These items will be discarded. Supported types are: str, int, float, bool.\n",
            "WARNING:haystack_integrations.document_stores.chroma.document_store:Document 67fc5438e9fbd8382065b3b956825b57bb4549bec33718b406b51c9b820a71a8 contains `meta` values of unsupported types for the keys: _split_overlap. These items will be discarded. Supported types are: str, int, float, bool.\n",
            "WARNING:haystack_integrations.document_stores.chroma.document_store:Document b576a361d4317ad27e34cd771976d9f5f504646baf514c6d86858851aa3f6908 contains `meta` values of unsupported types for the keys: _split_overlap. These items will be discarded. Supported types are: str, int, float, bool.\n",
            "WARNING:haystack_integrations.document_stores.chroma.document_store:Document 9eafe92f04700dac1b9ae68d934c9bb1f7e2b9bed8a0a0b7b5455852a2ded6d8 contains `meta` values of unsupported types for the keys: _split_overlap. These items will be discarded. Supported types are: str, int, float, bool.\n",
            "WARNING:haystack_integrations.document_stores.chroma.document_store:Document ca39848b3f3940815a48c6b6759caa8ed16496024b114d4f061eb7e4e2a8eb8d contains `meta` values of unsupported types for the keys: _split_overlap. These items will be discarded. Supported types are: str, int, float, bool.\n",
            "WARNING:haystack_integrations.document_stores.chroma.document_store:Document c7db347d25adab90f4d3279021a1e9f7fc64bd8585f0e8f2cd0a02c821146637 contains `meta` values of unsupported types for the keys: _split_overlap. These items will be discarded. Supported types are: str, int, float, bool.\n",
            "WARNING:haystack_integrations.document_stores.chroma.document_store:Document 7b4dd0db9cddea872b83774e02131e56ccb7c95f98da857df0c712205b92e01d contains `meta` values of unsupported types for the keys: _split_overlap. These items will be discarded. Supported types are: str, int, float, bool.\n",
            "WARNING:haystack_integrations.document_stores.chroma.document_store:Document 52956b562948e34e10b4e93a6b57603c2b493077fcbebd4088c3d968e0ab0150 contains `meta` values of unsupported types for the keys: _split_overlap. These items will be discarded. Supported types are: str, int, float, bool.\n",
            "WARNING:haystack_integrations.document_stores.chroma.document_store:Document 18204fa77e535d3cf2062cbb3e4d82363befaaf0b159abd89cf13d4aa8b10a8d contains `meta` values of unsupported types for the keys: _split_overlap. These items will be discarded. Supported types are: str, int, float, bool.\n",
            "WARNING:haystack_integrations.document_stores.chroma.document_store:Document 8d85f03ab3beaecede364dd0ac63fad2e8c988a03338f7c5d51bbb18ddc027fb contains `meta` values of unsupported types for the keys: _split_overlap. These items will be discarded. Supported types are: str, int, float, bool.\n",
            "WARNING:haystack_integrations.document_stores.chroma.document_store:Document b085770481316de588c68bf70a455dde5c54019b2a6f9fa3479868a54344ad42 contains `meta` values of unsupported types for the keys: _split_overlap. These items will be discarded. Supported types are: str, int, float, bool.\n",
            "WARNING:haystack_integrations.document_stores.chroma.document_store:Document 9922692564446a435d50f975e3aa0a1447d8b8ccd46f6d148d4e7bb924b3d58e contains `meta` values of unsupported types for the keys: _split_overlap. These items will be discarded. Supported types are: str, int, float, bool.\n"
          ]
        },
        {
          "data": {
            "text/plain": [
              "{'writer': {'documents_written': 76}}"
            ]
          },
          "execution_count": 53,
          "metadata": {},
          "output_type": "execute_result"
        }
      ],
      "source": [
        "# Run pipeline\n",
        "pipeline.run({\n",
        "    'cleaner': {'documents': pages_documents},\n",
        "})"
      ]
    },
    {
      "cell_type": "markdown",
      "metadata": {
        "id": "x9_WtTq8f0aa"
      },
      "source": [
        "## RAG pipeline\n"
      ]
    },
    {
      "cell_type": "code",
      "execution_count": 82,
      "metadata": {
        "id": "3RiL6jlrf4Rb"
      },
      "outputs": [],
      "source": [
        "from haystack.components.builders import ChatPromptBuilder, PromptBuilder\n",
        "from haystack.dataclasses import ChatMessage\n",
        "from haystack.utils import Secret\n",
        "from haystack.components.generators.chat import HuggingFaceAPIChatGenerator\n",
        "from haystack.components.generators import HuggingFaceLocalGenerator\n",
        "from haystack.components.routers import ConditionalRouter\n",
        "from haystack_integrations.components.retrievers.chroma import ChromaQueryTextRetriever\n",
        "from haystack import component"
      ]
    },
    {
      "cell_type": "code",
      "execution_count": 42,
      "metadata": {
        "id": "39OT1lM0gJFX"
      },
      "outputs": [],
      "source": [
        "system_prompt = \"\"\"you are arabic virtual assistant, you answer user queries in arabic.\"\"\"\n",
        "\n",
        "main_prompt_template =system_prompt +  \"\"\"\n",
        "ROLE AND CONTEXT:\n",
        "You are a knowledgeable assistant. Your task is to provide accurate and detailed answers to queries. Use the provided excerpts and references from useful resources to support your answers.\n",
        "\n",
        "INSTRUCTIONS:\n",
        "1. Identify the relevant sections of the excerpts provided.\n",
        "2. Provide a concise and informative response.\n",
        "3. Ensure your responses are clear and easy to understand.\n",
        "\n",
        "EXCERPTS:\n",
        "{% for doc in documents %}\n",
        "    excerpt: {{ doc.content }}\n",
        "{% endfor %}\n",
        "\n",
        "CONSIDERATIONS:\n",
        "- If the query cannot be answered given the provided documents, return 'no_answer'\n",
        "\n",
        "Query: {{query}}\n",
        "Answer:\n",
        "\"\"\"\n",
        "\n",
        "fallback_prompt_template = system_prompt + \"\"\"\n",
        "User entered a query that cannot be answered with the excerpts provided.\n",
        "The query was: {{query}}.\n",
        "Let the user know why the question cannot be answered. Be brief.\n",
        "\"\"\""
      ]
    },
    {
      "cell_type": "code",
      "execution_count": null,
      "metadata": {
        "id": "g8r6XA58hJrf"
      },
      "outputs": [],
      "source": [
        "model_name='CohereLabs/aya-expanse-8b'\n",
        "# HF_API_TOKEN = \"--secret--\""
      ]
    },
    {
      "cell_type": "code",
      "execution_count": 94,
      "metadata": {
        "colab": {
          "base_uri": "https://localhost:8080/"
        },
        "id": "GHhOWmXyhrNH",
        "outputId": "4f0a8e47-787a-4aac-fde7-edd95bc1c2a9"
      },
      "outputs": [
        {
          "name": "stderr",
          "output_type": "stream",
          "text": [
            "WARNING:haystack.components.builders.chat_prompt_builder:ChatPromptBuilder has 2 prompt variables, but `required_variables` is not set. By default, all prompt variables are treated as optional, which may lead to unintended behavior in multi-branch pipelines. To avoid unexpected execution, ensure that variables intended to be required are explicitly set in `required_variables`.\n",
            "WARNING:haystack.components.builders.chat_prompt_builder:ChatPromptBuilder has 1 prompt variables, but `required_variables` is not set. By default, all prompt variables are treated as optional, which may lead to unintended behavior in multi-branch pipelines. To avoid unexpected execution, ensure that variables intended to be required are explicitly set in `required_variables`.\n"
          ]
        }
      ],
      "source": [
        "retriever = ChromaQueryTextRetriever(document_store=document_store, top_k=5)\n",
        "template1 = [ChatMessage.from_user(main_prompt_template)]\n",
        "main_promptbuilder = ChatPromptBuilder(template=template1)\n",
        "template2 = [ChatMessage.from_user(fallback_prompt_template)]\n",
        "fallback_promptbuilder = ChatPromptBuilder(template=template2)\n",
        "main_llm = HuggingFaceAPIChatGenerator(\n",
        "    api_type=\"serverless_inference_api\",\n",
        "    api_params={\"model\": model_name},\n",
        "    token=Secret.from_token(HF_API_TOKEN))\n",
        "fallback_llm = HuggingFaceAPIChatGenerator(\n",
        "    api_type=\"serverless_inference_api\",\n",
        "    api_params={\"model\": model_name},\n",
        "    token=Secret.from_token(HF_API_TOKEN))\n",
        "\n",
        "@component\n",
        "class ChatMessageToTextConverter:\n",
        "    @component.output_types(replies_text=list[str])\n",
        "    def run(self, replies: list[ChatMessage], **kwargs):\n",
        "        # replies: list of ChatMessage objects\n",
        "        texts = [msg.text for msg in replies]\n",
        "        return {\"replies_text\": texts}\n",
        "\n",
        "conditional_router = ConditionalRouter([\n",
        "    {\n",
        "        \"condition\": \"{{'no_answer' not in replies[0].text }}\",\n",
        "        \"output\": \"{{replies}}\",\n",
        "        \"output_name\": \"replies\",\n",
        "        \"output_type\": list[str],\n",
        "    },\n",
        "    {\n",
        "        \"condition\": \"{{'no_answer' in replies[0].text }}\",\n",
        "        \"output\": \"{{query}}\",\n",
        "        \"output_name\": \"go_to_fallback\",\n",
        "        \"output_type\": str,\n",
        "    },\n",
        "])"
      ]
    },
    {
      "cell_type": "code",
      "execution_count": 95,
      "metadata": {
        "colab": {
          "base_uri": "https://localhost:8080/"
        },
        "id": "hmUcGLzok2D4",
        "outputId": "c7db77b8-65d3-46fb-cb84-7221e2ba0fa0"
      },
      "outputs": [
        {
          "data": {
            "text/plain": [
              "<haystack.core.pipeline.pipeline.Pipeline object at 0x7d1ea83060d0>\n",
              "🚅 Components\n",
              "  - retriever: ChromaQueryTextRetriever\n",
              "  - main_promptbuilder: ChatPromptBuilder\n",
              "  - fallback_promptbuilder: ChatPromptBuilder\n",
              "  - main_llm: HuggingFaceAPIChatGenerator\n",
              "  - fallback_llm: HuggingFaceAPIChatGenerator\n",
              "  - conditional_router: ConditionalRouter\n",
              "  - converter: ChatMessageToTextConverter\n",
              "🛤️ Connections\n",
              "  - retriever.documents -> main_promptbuilder.documents (List[Document])\n",
              "  - main_promptbuilder.prompt -> main_llm.messages (List[ChatMessage])\n",
              "  - fallback_promptbuilder.prompt -> fallback_llm.messages (List[ChatMessage])\n",
              "  - main_llm.replies -> converter.replies (List[ChatMessage])\n",
              "  - conditional_router.go_to_fallback -> fallback_promptbuilder.query (str)\n",
              "  - converter.replies_text -> conditional_router.replies (list[str])"
            ]
          },
          "execution_count": 95,
          "metadata": {},
          "output_type": "execute_result"
        }
      ],
      "source": [
        "# Setup pipeline\n",
        "pipeline = Pipeline()\n",
        "pipeline.add_component('retriever', retriever)\n",
        "pipeline.add_component('main_promptbuilder', main_promptbuilder)\n",
        "pipeline.add_component('fallback_promptbuilder', fallback_promptbuilder)\n",
        "pipeline.add_component('main_llm', main_llm)\n",
        "pipeline.add_component('fallback_llm', fallback_llm)\n",
        "pipeline.add_component('conditional_router', conditional_router)\n",
        "pipeline.add_component('converter',ChatMessageToTextConverter())\n",
        "\n",
        "pipeline.connect('retriever.documents', 'main_promptbuilder.documents')\n",
        "pipeline.connect('main_promptbuilder.prompt', 'main_llm.messages')\n",
        "\n",
        "pipeline.connect('main_llm.replies', 'converter.replies')\n",
        "pipeline.connect('converter.replies_text', 'conditional_router.replies')\n",
        "\n",
        "pipeline.connect('conditional_router.go_to_fallback', 'fallback_promptbuilder.query')\n",
        "pipeline.connect('fallback_promptbuilder.prompt', 'fallback_llm.messages')"
      ]
    },
    {
      "cell_type": "code",
      "execution_count": 97,
      "metadata": {
        "colab": {
          "base_uri": "https://localhost:8080/"
        },
        "id": "zBdBgf9LmM3Z",
        "outputId": "239eb96f-812a-40c5-cdc1-6959f191ebaf"
      },
      "outputs": [
        {
          "name": "stdout",
          "output_type": "stream",
          "text": [
            "{'conditional_router': {'replies': ['التعليم الجامع هو مفهوم يشير إلى توفير تعليم فعال وشامل لجميع الطلاب، بما في ذلك أولئك الذين لديهم احتياجات خاصة أو خلفيات اجتماعية واقتصادية مختلفة. ويهدف إلى ضمان تكافؤ الفرص التعليمية للجميع.\\n\\nوبحسب المقتطفات المقدمة، فإن تحقيق التعليم الجامع يتطلب عدة عوامل، مثل:\\n- إعداد منهج دراسي شامل يلبي احتياجات جميع الطلاب.\\n- توحيد إدارة التعليم العادي وتعليم ذوي الاحتياجات الخاصة.\\n- تخصيص موارد مالية وبشرية وفكرية كافية، حيث أن بلدانًا عديدة قد وضعت برامج لتخصيص أموال محددة لمجالات تسد الاحتياجات الاجتماعية والاقتصادية.\\n- المدارس الجامعة الفعالة التي توفر تعليمًا جيدًا لجميع تلاميذها تعتبر وسائل أنجع اقتصادياً لتوفير التعليم للجميع.']}}\n",
            "Question: ما هو التعليم الجامع؟.\n",
            "Response: التعليم الجامع هو مفهوم يشير إلى توفير تعليم فعال وشامل لجميع الطلاب، بما في ذلك أولئك الذين لديهم احتياجات خاصة أو خلفيات اجتماعية واقتصادية مختلفة. ويهدف إلى ضمان تكافؤ الفرص التعليمية للجميع.وبحسب المقتطفات المقدمة، فإن تحقيق التعليم الجامع يتطلب عدة عوامل، مثل:- إعداد منهج دراسي شامل يلبي احتياجات جميع الطلاب.- توحيد إدارة التعليم العادي وتعليم ذوي الاحتياجات الخاصة.- تخصيص موارد مالية وبشرية وفكرية كافية، حيث أن بلدانًا عديدة قد وضعت برامج لتخصيص أموال محددة لمجالات تسد الاحتياجات الاجتماعية والاقتصادية.- المدارس الجامعة الفعالة التي توفر تعليمًا جيدًا لجميع تلاميذها تعتبر وسائل أنجع اقتصادياً لتوفير التعليم للجميع.\n",
            "-------------------------------------------------\n",
            "\n"
          ]
        }
      ],
      "source": [
        "questions = [\n",
        "    'ما هو التعليم الجامع؟.',\n",
        "    ]\n",
        "\n",
        "\n",
        "for q in questions:\n",
        "  results = pipeline.run({\n",
        "      'retriever': {'query': q},\n",
        "      'main_promptbuilder': {'query': q},\n",
        "      'conditional_router': {'query': q},\n",
        "  })\n",
        "  print(results)\n",
        "  response = results.get('conditional_router') or results.get('fallback_llm')\n",
        "  reply = response['replies'][0].replace('\\n', '')\n",
        "  print(f'Question: {q}')\n",
        "  print(f'Response: {reply}')\n",
        "  print('-------------------------------------------------\\n')"
      ]
    }
  ],
  "metadata": {
    "colab": {
      "collapsed_sections": [
        "jieXlr7hRU0E"
      ],
      "provenance": []
    },
    "kernelspec": {
      "display_name": "Python 3",
      "name": "python3"
    },
    "language_info": {
      "name": "python"
    }
  },
  "nbformat": 4,
  "nbformat_minor": 0
}
